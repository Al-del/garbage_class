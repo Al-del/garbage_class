{
 "cells": [
  {
   "cell_type": "code",
   "id": "initial_id",
   "metadata": {
    "collapsed": true,
    "jupyter": {
     "is_executing": true
    }
   },
   "source": [
    "import numpy as np\n",
    "import torch\n",
    "import torch.nn as nn\n",
    "import os\n",
    "import torchvision\n",
    "batch_size = 16\n",
    "device = torch.device(\"cuda\") if torch.cuda.is_available() else torch.device(\"cpu\")\n",
    "datt = torchvision.datasets.ImageFolder(root='garbage_classification', transform=torchvision.transforms.Compose([torchvision.transforms.Resize((224, 224)), torchvision.transforms.ToTensor()]))\n",
    "datt_loader = torch.utils.data.DataLoader(datt, batch_size=batch_size, shuffle=True)\n",
    "class_names = datt.classes\n",
    "#Split the data into 80% train 10 % validation and 10 % test\n",
    "train_size = int(0.8 * len(datt))\n",
    "val_size = int(0.1 * len(datt))\n",
    "test_size = len(datt) - train_size - val_size\n",
    "train_data, val_data, test_data = torch.utils.data.random_split(datt, [train_size, val_size, test_size])\n",
    "train_loader = torch.utils.data.DataLoader(train_data, batch_size=batch_size, shuffle=True)\n",
    "val_loader = torch.utils.data.DataLoader(val_data, batch_size=batch_size, shuffle=True)\n",
    "test_loader = torch.utils.data.DataLoader(test_data, batch_size=batch_size, shuffle=True)\n",
    "\n",
    "class model(nn.Module):\n",
    "    def __init__(self):\n",
    "        super(model, self).__init__()\n",
    "        self.base_model = torchvision.models.resnet50(pretrained=True)\n",
    "        self.base_model.fc = nn.Linear(2048, len(class_names))\n",
    "    def forward(self, x):\n",
    "        return self.base_model(x)\n",
    "#model = model().to(device)\n",
    "def train(model, train_loader, val_loader, epochs=10):\n",
    "    criterion = nn.CrossEntropyLoss()\n",
    "    optimizer = torch.optim.Adam(model.parameters(), lr=0.001)\n",
    "    for epoch in range(epochs):\n",
    "        model.train()\n",
    "        for images, labels in train_loader:\n",
    "            images, labels = images.to(device), labels.to(device)\n",
    "            optimizer.zero_grad()\n",
    "            output = model(images)\n",
    "            loss = criterion(output, labels)\n",
    "            loss.backward()\n",
    "            optimizer.step()\n",
    "            print(f'Epoch {epoch + 1}/{epochs} : Loss: {loss.item()}', end='\\r')\n",
    "        model.eval()\n",
    "        correct, total = 0, 0\n",
    "        for images, labels in val_loader:\n",
    "            images, labels = images.to(device), labels.to(device)\n",
    "            output = model(images)\n",
    "            _, predicted = torch.max(output, 1)\n",
    "            total += labels.size(0)\n",
    "            correct += (predicted == labels).sum().item()\n",
    "        print(f'Epoch {epoch + 1}/{epochs} : Accuracy: {100 * correct / total}')\n",
    "def test(model, test):\n",
    "    model.eval()\n",
    "    correct, total = 0, 0\n",
    "    for images, labels in test:\n",
    "        images, labels = images.to(device), labels.to(device)\n",
    "        output = model(images)\n",
    "        _, predicted = torch.max(output, 1)\n",
    "        total += labels.size(0)\n",
    "        correct += (predicted == labels).sum().item()\n",
    "    print(f'Test Accuracy: {100 * correct / total}')\n",
    "class model_2(nn.Module):\n",
    "    def __init__(self):\n",
    "        super(model_2, self).__init__()\n",
    "        self.base_model = torchvision.models.efficientnet_b1(pretrained=True)\n",
    "        self.base_model._fc = nn.Linear(1280, len(class_names))\n",
    "    def forward(self, x):\n",
    "        return self.base_model(x)\n",
    "model = model_2().to(device)\n",
    "train(model, train_loader, val_loader)\n",
    "test(model, test_loader)"
   ],
   "outputs": [],
   "execution_count": null
  }
 ],
 "metadata": {
  "kernelspec": {
   "display_name": "Python 3",
   "language": "python",
   "name": "python3"
  },
  "language_info": {
   "codemirror_mode": {
    "name": "ipython",
    "version": 2
   },
   "file_extension": ".py",
   "mimetype": "text/x-python",
   "name": "python",
   "nbconvert_exporter": "python",
   "pygments_lexer": "ipython2",
   "version": "2.7.6"
  }
 },
 "nbformat": 4,
 "nbformat_minor": 5
}
